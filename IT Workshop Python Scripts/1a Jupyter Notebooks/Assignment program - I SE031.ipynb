{
 "cells": [
  {
   "cell_type": "markdown",
   "metadata": {},
   "source": [
    "# Name: T ASWIN BARATH\n",
    "# USN  : 18BTRSE031"
   ]
  },
  {
   "cell_type": "markdown",
   "metadata": {},
   "source": [
    "# 1: # Convert a list of characters into a string\n",
    "##               # Input ['a', 'b', 'c', 'd']\n",
    "##               # Output abcd"
   ]
  },
  {
   "cell_type": "markdown",
   "metadata": {},
   "source": [
    "### Answer 1"
   ]
  },
  {
   "cell_type": "code",
   "execution_count": 45,
   "metadata": {},
   "outputs": [
    {
     "name": "stdout",
     "output_type": "stream",
     "text": [
      "['a', 'b', 'c', 'd']\n"
     ]
    }
   ],
   "source": [
    "List = ['a','b','c','d']\n",
    "print(List)"
   ]
  },
  {
   "cell_type": "code",
   "execution_count": 46,
   "metadata": {},
   "outputs": [],
   "source": [
    "Output_String = \"\".join(List)"
   ]
  },
  {
   "cell_type": "code",
   "execution_count": 47,
   "metadata": {},
   "outputs": [
    {
     "name": "stdout",
     "output_type": "stream",
     "text": [
      "abcd\n"
     ]
    }
   ],
   "source": [
    "print(Output_String)"
   ]
  },
  {
   "cell_type": "markdown",
   "metadata": {},
   "source": [
    "### Answer 2"
   ]
  },
  {
   "cell_type": "code",
   "execution_count": 48,
   "metadata": {},
   "outputs": [
    {
     "name": "stdout",
     "output_type": "stream",
     "text": [
      "Enter Size of List: 4\n"
     ]
    }
   ],
   "source": [
    "size = int(input('Enter Size of List: '))"
   ]
  },
  {
   "cell_type": "code",
   "execution_count": 49,
   "metadata": {},
   "outputs": [
    {
     "name": "stdout",
     "output_type": "stream",
     "text": [
      "Enter list item 0: a\n",
      "Enter list item 1: b\n",
      "Enter list item 2: c\n",
      "Enter list item 3: d\n",
      "['a', 'b', 'c', 'd']\n"
     ]
    }
   ],
   "source": [
    "List = []\n",
    "for i in range(size):\n",
    "    item = input('Enter list item ' + str(i) + ': ')\n",
    "    List.append(item)\n",
    "print(List)"
   ]
  },
  {
   "cell_type": "code",
   "execution_count": 50,
   "metadata": {},
   "outputs": [],
   "source": [
    "Output_String = \"\".join(List)"
   ]
  },
  {
   "cell_type": "code",
   "execution_count": 51,
   "metadata": {},
   "outputs": [
    {
     "name": "stdout",
     "output_type": "stream",
     "text": [
      "abcd\n"
     ]
    }
   ],
   "source": [
    "print(Output_String)"
   ]
  },
  {
   "cell_type": "markdown",
   "metadata": {},
   "source": [
    "# 2: Python Program to Swap Two Variables ( find the address of after swapping and before swapping variables)"
   ]
  },
  {
   "cell_type": "markdown",
   "metadata": {},
   "source": [
    "## Answer 1"
   ]
  },
  {
   "cell_type": "code",
   "execution_count": 52,
   "metadata": {},
   "outputs": [
    {
     "name": "stdout",
     "output_type": "stream",
     "text": [
      "Value of a before swapping: 123\n",
      "Address of a before swapping: 94289154546816\n"
     ]
    }
   ],
   "source": [
    "a  = 123\n",
    "print('Value of a before swapping:', a)\n",
    "print('Address of a before swapping:', id(a))"
   ]
  },
  {
   "cell_type": "code",
   "execution_count": 53,
   "metadata": {},
   "outputs": [
    {
     "name": "stdout",
     "output_type": "stream",
     "text": [
      "Value of b before swapping: 456\n",
      "Address of b before swapping: 140181567890512\n"
     ]
    }
   ],
   "source": [
    "b  = 456\n",
    "print('Value of b before swapping:', b)\n",
    "print('Address of b before swapping:', id(b))"
   ]
  },
  {
   "cell_type": "code",
   "execution_count": 54,
   "metadata": {},
   "outputs": [],
   "source": [
    "temp = a\n",
    "a = b\n",
    "b = temp"
   ]
  },
  {
   "cell_type": "code",
   "execution_count": 55,
   "metadata": {},
   "outputs": [
    {
     "name": "stdout",
     "output_type": "stream",
     "text": [
      "Value of a after swapping: 456\n",
      "Address of a after swapping: 140181567890512\n"
     ]
    }
   ],
   "source": [
    "print('Value of a after swapping:', a)\n",
    "print('Address of a after swapping:', id(a))"
   ]
  },
  {
   "cell_type": "code",
   "execution_count": 56,
   "metadata": {},
   "outputs": [
    {
     "name": "stdout",
     "output_type": "stream",
     "text": [
      "Value of b after swapping: 123\n",
      "Address of b after swapping: 94289154546816\n"
     ]
    }
   ],
   "source": [
    "print('Value of b after swapping:', b)\n",
    "print('Address of b after swapping:', id(b))"
   ]
  },
  {
   "cell_type": "markdown",
   "metadata": {},
   "source": [
    "### Answer 2"
   ]
  },
  {
   "cell_type": "code",
   "execution_count": 57,
   "metadata": {},
   "outputs": [],
   "source": [
    "def swap(x,y):\n",
    "    temp = x\n",
    "    x = y\n",
    "    y = temp\n",
    "    return x,y"
   ]
  },
  {
   "cell_type": "code",
   "execution_count": 58,
   "metadata": {},
   "outputs": [
    {
     "name": "stdout",
     "output_type": "stream",
     "text": [
      "Enter number 1:34\n",
      "Enter number 2:67\n"
     ]
    }
   ],
   "source": [
    "a = int(input('Enter number 1:'))\n",
    "b = int(input('Enter number 2:'))"
   ]
  },
  {
   "cell_type": "code",
   "execution_count": 59,
   "metadata": {},
   "outputs": [
    {
     "name": "stdout",
     "output_type": "stream",
     "text": [
      "Value of a before swapping: 34\n",
      "Address of a before swapping: 94289154543968\n",
      "34\n"
     ]
    }
   ],
   "source": [
    "print('Value of a before swapping:', a)\n",
    "print('Address of a before swapping:', id(a))\n",
    "print(a)"
   ]
  },
  {
   "cell_type": "code",
   "execution_count": 60,
   "metadata": {},
   "outputs": [
    {
     "name": "stdout",
     "output_type": "stream",
     "text": [
      "Value of b before swapping: 67\n",
      "Address of b before swapping: 94289154545024\n"
     ]
    }
   ],
   "source": [
    "print('Value of b before swapping:', b)\n",
    "print('Address of b before swapping:', id(b))"
   ]
  },
  {
   "cell_type": "code",
   "execution_count": 61,
   "metadata": {},
   "outputs": [],
   "source": [
    "a, b = swap(a,b)"
   ]
  },
  {
   "cell_type": "code",
   "execution_count": 62,
   "metadata": {},
   "outputs": [
    {
     "name": "stdout",
     "output_type": "stream",
     "text": [
      "Value of a after swapping: 67\n",
      "Address of a after swapping: 94289154545024\n"
     ]
    }
   ],
   "source": [
    "print('Value of a after swapping:', a)\n",
    "print('Address of a after swapping:', id(a))"
   ]
  },
  {
   "cell_type": "code",
   "execution_count": 63,
   "metadata": {},
   "outputs": [
    {
     "name": "stdout",
     "output_type": "stream",
     "text": [
      "Value of b after swapping: 34\n",
      "Address of b after swapping: 94289154543968\n",
      "34\n"
     ]
    }
   ],
   "source": [
    "print('Value of b after swapping:', b)\n",
    "print('Address of b after swapping:', id(b))\n",
    "print(b)"
   ]
  }
 ],
 "metadata": {
  "kernelspec": {
   "display_name": "Python 3",
   "language": "python",
   "name": "python3"
  },
  "language_info": {
   "codemirror_mode": {
    "name": "ipython",
    "version": 3
   },
   "file_extension": ".py",
   "mimetype": "text/x-python",
   "name": "python",
   "nbconvert_exporter": "python",
   "pygments_lexer": "ipython3",
   "version": "3.8.3"
  }
 },
 "nbformat": 4,
 "nbformat_minor": 4
}
